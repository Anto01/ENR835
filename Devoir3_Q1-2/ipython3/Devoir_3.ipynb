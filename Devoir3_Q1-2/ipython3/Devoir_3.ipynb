{
 "cells": [
  {
   "cell_type": "markdown",
   "metadata": {
    "slideshow": {
     "slide_type": "slide"
    }
   },
   "source": [
    "Devoir #3 ENR382\n",
    "========"
   ]
  },
  {
   "cell_type": "markdown",
   "metadata": {
    "slideshow": {
     "slide_type": "subslide"
    }
   },
   "source": [
    "## Modules à importer"
   ]
  },
  {
   "cell_type": "code",
   "execution_count": 26,
   "metadata": {
    "code_folding": [],
    "collapsed": false,
    "run_control": {
     "marked": false
    },
    "slideshow": {
     "slide_type": "slide"
    }
   },
   "outputs": [],
   "source": [
    "# Python\n",
    "import numpy as np\n",
    "import scipy as sp\n",
    "import scipy.constants as const\n",
    "%matplotlib inline\n",
    "import matplotlib.pyplot as plt\n",
    "import pandas as pd\n",
    "import pylab\n",
    "import sys\n",
    "\n",
    "import plotly\n",
    "from plotly.offline import plot\n",
    "#init_notebook_mode()\n",
    "\n",
    "# Externe\n",
    "import solar_mod as sm\n",
    "import properties_mod as pm"
   ]
  },
  {
   "cell_type": "markdown",
   "metadata": {
    "slideshow": {
     "slide_type": "slide"
    }
   },
   "source": [
    "\n",
    "## Question 1\n",
    "\n",
    "### Importation et apperçu des données du devoir #2"
   ]
  },
  {
   "cell_type": "code",
   "execution_count": 27,
   "metadata": {
    "collapsed": false,
    "slideshow": {
     "slide_type": "subslide"
    }
   },
   "outputs": [
    {
     "name": "stdout",
     "output_type": "stream",
     "text": [
      "      I  Ibn        Rb        omen        thez\n",
      "0     0    0  2.728682 -185.932358  111.134497\n",
      "1     0    0  2.746104 -170.932358  110.852047\n",
      "2     0    0  2.958693 -155.932358  107.937769\n",
      "3     0    0  3.590436 -140.932358  102.703818\n",
      "4     0    0  6.351798 -125.932358   95.609050\n",
      "5    27   98  0.000000 -110.932358   87.122329\n",
      "6    99  110  0.000000  -95.932358   77.652628\n",
      "7   280  411  0.109534  -80.932358   67.541652\n",
      "8   432  499  0.487013  -65.932358   57.093909\n",
      "9   543  423  0.673706  -50.932358   46.638033\n",
      "10  636  387  0.775716  -35.932358   36.652838\n",
      "11  802  579  0.830688  -20.932358   28.070626\n",
      "12  796  521  0.854040   -5.932358   22.861140\n",
      "13  791  519  0.851393    9.067642   23.530648\n",
      "14  791  578  0.822137   24.067642   29.671890\n",
      "15  609  348  0.759068   39.067642   38.665950\n",
      "16  396  142  0.643653   54.067642   48.804472\n",
      "17  339  175  0.429968   69.067642   59.290404\n",
      "18  226  285  0.000000   84.067642   69.692861\n",
      "19   83   86  0.000000   99.067642   79.695532\n",
      "20   16    0  0.000000  114.067642   88.989998\n",
      "21    0    0  5.245744  129.067642   97.222014\n",
      "22    0    0  3.393977  144.067642  103.967806\n",
      "23    0    0  2.892482  159.067642  108.752307\n"
     ]
    }
   ],
   "source": [
    "data_d2 = pd.read_csv('../data_devoir2.csv')\n",
    "print(data_d2)\n",
    "#data_d2.head()"
   ]
  },
  {
   "cell_type": "markdown",
   "metadata": {
    "slideshow": {
     "slide_type": "slide"
    }
   },
   "source": [
    "### Données du problème"
   ]
  },
  {
   "cell_type": "code",
   "execution_count": 28,
   "metadata": {
    "collapsed": true,
    "slideshow": {
     "slide_type": "subslide"
    }
   },
   "outputs": [],
   "source": [
    "T_pc = 52.0         # Temperature de la plaque (Celsius)\n",
    "T_pk = T_pc+273     # Temperature de la plaque (Kelvin)\n",
    "T_ac = 18           # Temperature ambiante (celsius)\n",
    "T_ak = T_ac+273     # Temperature ambiante (kelvin)\n",
    "h_w = 6.0             # coefficient de convection extérieur\n",
    "Lair  = 0.030       # epaisseur d'air\n",
    "alpha_n = 0.95      # Coef d'absortion solaire\n",
    "g = 9.8  \n",
    "rhog = 0.4\n",
    "KL = 0.0125         # Propriété du vitrage\n",
    "n2=1.526            # indice de réfraction de la vitre\n",
    "n1=1                # indice de réfraction de l'air\n",
    "eps_p = 0.17        # Emissivité de la plaque\n",
    "eps_c = 0.88         # Emissivitée du verre\n",
    "N = 1               # Nombre de vitrage\n",
    "# Notes: Nous posons l'hyposthèse que les angles beta et gama du capteur sont les mêmes que ceux du devoir #2\n",
    "beta = 60         # Angle à plat\n",
    "gam = 0             # plein sud\n",
    "phi  = 45.0 +30.0/60.0  # latitude  Montreal (45 deg 30 min nord)"
   ]
  },
  {
   "cell_type": "markdown",
   "metadata": {},
   "source": [
    "### Sélection des données de la 12e tranche"
   ]
  },
  {
   "cell_type": "code",
   "execution_count": 29,
   "metadata": {
    "collapsed": false
   },
   "outputs": [
    {
     "name": "stdout",
     "output_type": "stream",
     "text": [
      "omen = -20.932357638\n",
      "Rb =  0.83068791593\n",
      "It =  722.922746543\n",
      "Ib =  424.391149777\n",
      "Id =  218.331596766\n",
      "Ir = 80.2\n",
      "thez =  28.0706255912\n"
     ]
    }
   ],
   "source": [
    "tranche = 11\n",
    "I = data_d2.I[tranche]\n",
    "Ibn = data_d2.Ibn[tranche]\n",
    "n =sm.jour_mois_jour_annee(12,'juin')\n",
    "thez = data_d2.thez[tranche]\n",
    "delt  = sm.decl_solaire(n)\n",
    "omen = data_d2.omen[tranche]\n",
    "Ib = Ibn * sm.cosd(thez)\n",
    "Id = I-Ib\n",
    "Rb = sm.calcul_Rb(phi,n,omen,beta,gam)\n",
    "\n",
    "It,Ib,Id,Ir = sm.modele_isotropique(I,Ib,Id,beta,Rb,rhog)\n",
    "\n",
    "print('omen =',omen)\n",
    "print('Rb = ',Rb)\n",
    "print('It = ',It)\n",
    "print('Ib = ',Ib)\n",
    "print('Id = ',Id)\n",
    "print('Ir =',Ir)\n",
    "print('thez = ',thez)"
   ]
  },
  {
   "cell_type": "markdown",
   "metadata": {},
   "source": [
    "### Calculs du problème\n",
    "#### Calcul des angles réfléchi et diffus"
   ]
  },
  {
   "cell_type": "code",
   "execution_count": 30,
   "metadata": {
    "collapsed": false
   },
   "outputs": [
    {
     "name": "stdout",
     "output_type": "stream",
     "text": [
      "the =  42.8638179755\n",
      "the_g =  64.9668\n",
      "the_d =  56.7612\n"
     ]
    }
   ],
   "source": [
    "the_g = sm.angle_reflechi(beta)\n",
    "the_d = sm.angle_diffus(beta)\n",
    "#the = abs(thez-beta)\n",
    "\n",
    "the = sm.normale_solaire(delt,phi,omen,beta,gam)\n",
    "\n",
    "print('the = ',the)\n",
    "print('the_g = ',the_g)\n",
    "print('the_d = ',the_d)"
   ]
  },
  {
   "cell_type": "markdown",
   "metadata": {},
   "source": [
    "<img  src=\"thetag.PNG\"/>"
   ]
  },
  {
   "cell_type": "markdown",
   "metadata": {},
   "source": [
    "<img  src=\"thetad.PNG\"/>"
   ]
  },
  {
   "cell_type": "markdown",
   "metadata": {
    "collapsed": false
   },
   "source": [
    "#### Calcul du coéfficient absorbeur pour faible longueur d'ondes"
   ]
  },
  {
   "cell_type": "code",
   "execution_count": 31,
   "metadata": {
    "collapsed": false
   },
   "outputs": [
    {
     "name": "stdout",
     "output_type": "stream",
     "text": [
      "tau_al_b = 0.832787232782\n",
      "tau_al_g = 0.688465506364\n",
      "tau_al_d = 0.772853382109\n"
     ]
    }
   ],
   "source": [
    "tau_al_b = sm.Calcul_tau_al(the,alpha_n,KL,n2,n1,N)\n",
    "tau_al_g = sm.Calcul_tau_al(the_g,alpha_n,KL,n2,n1,N)\n",
    "tau_al_d = sm.Calcul_tau_al(the_d,alpha_n,KL,n2,n1,N)\n",
    "\n",
    "print('tau_al_b =', tau_al_b)\n",
    "print('tau_al_g =', tau_al_g)\n",
    "print('tau_al_d =', tau_al_d)"
   ]
  },
  {
   "cell_type": "markdown",
   "metadata": {},
   "source": [
    "#### Calcul de la radiation totale transmise"
   ]
  },
  {
   "cell_type": "code",
   "execution_count": 32,
   "metadata": {
    "collapsed": false
   },
   "outputs": [
    {
     "name": "stdout",
     "output_type": "stream",
     "text": [
      "Radiation directe transmise = 353.42753124\n",
      "Radiation diffuse transmise= 168.738312982\n",
      "Radiation réfléchie transmise = 55.2149336104\n",
      "Radiation totale transmise (S) = 577.380777832\n"
     ]
    }
   ],
   "source": [
    "Ibt = Ib*tau_al_b\n",
    "Idt = Id*tau_al_d\n",
    "Irt = Ir*tau_al_g\n",
    "S =  Ibt+Idt+Irt\n",
    "\n",
    "print('Radiation directe transmise =',Ibt)\n",
    "print('Radiation diffuse transmise=',Idt)\n",
    "print('Radiation réfléchie transmise =',Irt)\n",
    "print('Radiation totale transmise (S) =',S)"
   ]
  },
  {
   "cell_type": "markdown",
   "metadata": {},
   "source": [
    "<img  src=\"S.PNG\"/>"
   ]
  },
  {
   "cell_type": "markdown",
   "metadata": {},
   "source": [
    "#### Calcul des pertes par model itératif\n",
    "\n",
    "Pour une plaque simple, le coéfficient de perte vers le haut est exprimé grâce à cette formule.\n",
    "<img  src=\"ut.PNG\"/>"
   ]
  },
  {
   "cell_type": "markdown",
   "metadata": {},
   "source": [
    "Premièrement, il faut trouver chacun des termes du dénominateur. Les formules suivantes seront utilisées.\n",
    "Pour le coéfficient de radiation de la plaque interne jusqu'à la surface externe,\n",
    "<img  src=\"hrpc.PNG\"/>\n",
    "Pour ce qui est de la radiation de la surface externe vers l'air ambiante,\n",
    "<img  src=\"hrca.PNG\"/>\n",
    "La convection entre les deux surfaces ($ h_{c,p-c} $) sera déterminé grâce à la fonction suivante, \n",
    "  <img  src=\"hcpc.PNG\"/>\n",
    "Pour enfin trouver le coéfficient de température de la face externe du capteur.\n",
    "<img  src=\"Tc.PNG\"/>"
   ]
  },
  {
   "cell_type": "code",
   "execution_count": 33,
   "metadata": {
    "collapsed": false,
    "scrolled": false
   },
   "outputs": [
    {
     "name": "stdout",
     "output_type": "stream",
     "text": [
      "Le coéfficient de perte vers le haut = 2.8585751874 W/m² °C\n",
      "Les pertes vers le haut = 97.1915563716 W/m²\n",
      "Ce qui est capté 480.189221461 W/m²\n",
      "La température de la surface extérieure = 23.0521700256 °C\n"
     ]
    }
   ],
   "source": [
    "\n",
    "T_cc = 40 # Température initiale (hypothèse)\n",
    "T_old = 1\n",
    "converg = []\n",
    "x_it = 0\n",
    "x_conv = []\n",
    "\n",
    "while (abs(T_old-T_cc) > 0.0001):\n",
    "    \n",
    "    converg.append(T_cc)\n",
    "    T_old = T_cc\n",
    "\n",
    "    T_ck = T_cc + 273.0\n",
    "    T_avg = (T_ck+T_pk)/2\n",
    "\n",
    "    hr_pc = (const.sigma * (T_pk**2+T_ck**2) * (T_pk+T_ck))/((1/eps_p)+(1/eps_c)-1)\n",
    "    \n",
    "    hr_ca = eps_c*const.sigma*(T_ck**2+T_ak**2)*(T_ck+T_ak)\n",
    "\n",
    "    nu = pm.air_prop('nu',T_avg)\n",
    "    al = pm.air_prop('al',T_avg)\n",
    "    k = pm.air_prop('k',T_avg)\n",
    "    Ra = const.g*(1/T_avg)*abs(T_ck-T_pk)*Lair**3/(nu*al)\n",
    "\n",
    "    f1 = max(0,1.0-1708.0/(Ra*sm.cosd(beta)))\n",
    "    f2 = 1.0-1708*(sm.sind(1.8*beta))**1.6/(Ra*sm.cosd(beta))\n",
    "    f3 = max(0,(Ra*sm.cosd(beta)/5830)**(1.0/3.0)-1.0)\n",
    "    Nu = 1.0 + 1.44*f1*f2+f3 \n",
    "    hc_pc = Nu * k/Lair\n",
    "\n",
    "    T_p = T_avg-273.0\n",
    "    \n",
    "    \n",
    "    Ut = ((1/(hc_pc + hr_pc))+(1/(h_w+hr_ca)))**-1\n",
    "    \n",
    "    T_cc = T_p - ((Ut*(T_p-T_ac))/(hc_pc+hr_pc))\n",
    "    x_conv.append(x_it)\n",
    "    x_it = x_it + 1\n",
    "\n",
    "q = Ut*(T_pc-T_ac)\n",
    "total_iteratif = S-q\n",
    "\n",
    "\n",
    "#plotly.offline.iplot({\n",
    "#\"data\": [{\n",
    "#    \"x\": x_conv,\n",
    "#    \"y\": converg\n",
    "#}],\n",
    "#\"layout\": {\n",
    "#    \"title\": \"Convergence de la température externe\"\n",
    "#}\n",
    "#})\n",
    "\n",
    "\n",
    "\n",
    "print('Le coéfficient de perte vers le haut =',Ut, 'W/m² °C')\n",
    "print('Les pertes vers le haut =', q, 'W/m²')\n",
    "print('Ce qui est capté',total_iteratif,'W/m²' )\n",
    "print('La température de la surface extérieure =',T_cc,'°C')\n"
   ]
  },
  {
   "cell_type": "markdown",
   "metadata": {},
   "source": [
    "#### Calcul des pertes par modèle empirique Klein\n",
    "\n",
    "En plus de calculer avec la méthode itérative, la méthode Klein est utilisé afin de comparer les résultats."
   ]
  },
  {
   "cell_type": "markdown",
   "metadata": {},
   "source": [
    "<img  src=\"uklein.PNG\"/>"
   ]
  },
  {
   "cell_type": "code",
   "execution_count": 34,
   "metadata": {
    "collapsed": false
   },
   "outputs": [
    {
     "name": "stdout",
     "output_type": "stream",
     "text": [
      "Coefficient de perte vers le haut Klein 2.906693274075611 W/m² °C\n",
      "Pertes vers le haut = 98.82757131857076 W/m²\n",
      "Ce qui est capté = 478.553206514 W/m²\n"
     ]
    }
   ],
   "source": [
    "pertes_empirique_coef = sm.U_Klein(T_pc,T_ac,beta,h_w,eps_p,eps_c,N)\n",
    "pertes_empirique = pertes_empirique_coef*(T_pc-T_ac)\n",
    "total_empirique = S-pertes_empirique\n",
    "\n",
    "\n",
    "print('Coefficient de perte vers le haut Klein',pertes_empirique_coef,'W/m² °C')\n",
    "print('Pertes vers le haut =',pertes_empirique, 'W/m²')\n",
    "print('Ce qui est capté =',total_empirique, 'W/m²')"
   ]
  },
  {
   "cell_type": "markdown",
   "metadata": {},
   "source": [
    "#### Calcul du rendement du capteur"
   ]
  },
  {
   "cell_type": "code",
   "execution_count": 35,
   "metadata": {
    "collapsed": false
   },
   "outputs": [
    {
     "name": "stdout",
     "output_type": "stream",
     "text": [
      "Le rendement du capteur est de 0.661970049777 pour la méthode empirique\n",
      "Le rendement du capteur est de 0.664233106175 pour la méthode itérative\n"
     ]
    }
   ],
   "source": [
    "Rendement_empirique = total_empirique/It\n",
    "Rendement_iteratif = total_iteratif/It\n",
    "print('Le rendement du capteur est de',Rendement_empirique,'pour la méthode empirique')\n",
    "print('Le rendement du capteur est de',Rendement_iteratif,'pour la méthode itérative')"
   ]
  },
  {
   "cell_type": "markdown",
   "metadata": {
    "collapsed": true
   },
   "source": [
    "### Résultats\n",
    "\n",
    "Notes: Nous posons l'hyposthèse que les angles beta et gama du capteur sont les mêmes que ceux du devoir #2\n"
   ]
  },
  {
   "cell_type": "code",
   "execution_count": 36,
   "metadata": {
    "collapsed": false
   },
   "outputs": [
    {
     "name": "stdout",
     "output_type": "stream",
     "text": [
      "a) 577.380777832 J/m²\n",
      "b) 97.1915563716 W/m²\n",
      "c) 0.664233106175\n"
     ]
    }
   ],
   "source": [
    "print('a)',S,'J/m²')\n",
    "print('b)',q, 'W/m²')\n",
    "print('c)',Rendement_iteratif)"
   ]
  },
  {
   "cell_type": "markdown",
   "metadata": {},
   "source": [
    "## Question 2"
   ]
  },
  {
   "cell_type": "markdown",
   "metadata": {},
   "source": [
    "### Données du problème"
   ]
  },
  {
   "cell_type": "code",
   "execution_count": 37,
   "metadata": {
    "collapsed": false
   },
   "outputs": [],
   "source": [
    "H= 0.8\n",
    "N=8\n",
    "Y=2\n",
    "Ac=H*Y # Surface des capteurs\n",
    "W=0.1 # Distance entre les tubes (m)\n",
    "D = 0.007 # m\n",
    "Cb=100.0 # W/mK\n",
    "P=2*(H+Y) # Perimetre du capteur\n",
    "deltaa= 0.001 #epaisseur de la plaque (m)\n",
    "ka=400.0  # W/m2K\n",
    "mpt=0.016 # Debit total Kg/s\n",
    "hf=1100.0 #W/m2K\n",
    "Cp=4180.0   #J/KgK\n",
    "Rpjoint = 1/Cb    #hypoth?se Conductivite joint est infinie\n",
    "Ti=18.0\n",
    "UL=Ut"
   ]
  },
  {
   "cell_type": "markdown",
   "metadata": {},
   "source": [
    "#### Calcul du rendement d'ailette F"
   ]
  },
  {
   "cell_type": "markdown",
   "metadata": {},
   "source": [
    "<img  src=\"m.PNG\"/>"
   ]
  },
  {
   "cell_type": "code",
   "execution_count": 38,
   "metadata": {
    "collapsed": false
   },
   "outputs": [],
   "source": [
    "m = np.sqrt(UL/(ka*deltaa))"
   ]
  },
  {
   "cell_type": "markdown",
   "metadata": {},
   "source": [
    "<img  src=\"f.PNG\"/>"
   ]
  },
  {
   "cell_type": "code",
   "execution_count": 39,
   "metadata": {
    "collapsed": false
   },
   "outputs": [],
   "source": [
    "F = np.tanh((m*(W-D)/2))/(m*(W-D)/2)"
   ]
  },
  {
   "cell_type": "markdown",
   "metadata": {},
   "source": [
    "#### Calcul du rendement d'absorbeur F'\n",
    "<img  src=\"Fp.PNG\"/>"
   ]
  },
  {
   "cell_type": "code",
   "execution_count": 40,
   "metadata": {
    "collapsed": false
   },
   "outputs": [
    {
     "name": "stdout",
     "output_type": "stream",
     "text": [
      "Fp = 0.980912220305\n"
     ]
    }
   ],
   "source": [
    "Fp = (1.0/UL)/(W*(1.0/(UL*(D+(W-D)*F))+Rpjoint+(1.0/(hf*const.pi*D))))\n",
    "print('Fp =',Fp)"
   ]
  },
  {
   "cell_type": "markdown",
   "metadata": {},
   "source": [
    "#### Calcul du rendement d'absorbeur F''\n",
    "<img  src=\"fpp.PNG\"/>"
   ]
  },
  {
   "cell_type": "code",
   "execution_count": 41,
   "metadata": {
    "collapsed": false
   },
   "outputs": [
    {
     "name": "stdout",
     "output_type": "stream",
     "text": [
      "0.967196774224\n"
     ]
    }
   ],
   "source": [
    "Fpp1 = (mpt*Cp)/(Ac*UL*Fp)\n",
    "Fpp2 =  1-np.exp(-(Ac*UL*Fp)/(mpt*Cp))\n",
    "Fpp = Fpp1 * Fpp2\n",
    "print(Fpp)"
   ]
  },
  {
   "cell_type": "markdown",
   "metadata": {},
   "source": [
    "#### Calcul du facteur FR"
   ]
  },
  {
   "cell_type": "markdown",
   "metadata": {},
   "source": [
    "<img  src=\"fr.PNG\"/>"
   ]
  },
  {
   "cell_type": "code",
   "execution_count": 42,
   "metadata": {
    "collapsed": false
   },
   "outputs": [
    {
     "name": "stdout",
     "output_type": "stream",
     "text": [
      "0.948735135277\n"
     ]
    }
   ],
   "source": [
    "Fr = Fpp*Fp\n",
    "print(Fr)"
   ]
  },
  {
   "cell_type": "markdown",
   "metadata": {},
   "source": [
    "#### Calcul de la température à l'entrée du capteur"
   ]
  },
  {
   "cell_type": "markdown",
   "metadata": {},
   "source": [
    "<img  src=\"tfi.PNG\"/>\n",
    "En isolant Tfi de la formule, on obtient,"
   ]
  },
  {
   "cell_type": "code",
   "execution_count": 43,
   "metadata": {
    "collapsed": false
   },
   "outputs": [],
   "source": [
    "Qu = Ac*Fr*(S-UL*(Ti-T_ac))\n",
    "Tfi = T_pc-((Ac)/(Fr*UL))*(1-Fpp)\n"
   ]
  },
  {
   "cell_type": "markdown",
   "metadata": {},
   "source": [
    "### Résultats"
   ]
  },
  {
   "cell_type": "code",
   "execution_count": 44,
   "metadata": {
    "collapsed": false
   },
   "outputs": [
    {
     "name": "stdout",
     "output_type": "stream",
     "text": [
      "a) 0.948735135277\n",
      "b) 51.9806472836 °C\n"
     ]
    }
   ],
   "source": [
    "print('a)',Fr)\n",
    "print('b)',Tfi,'°C')"
   ]
  }
 ],
 "metadata": {
  "kernelspec": {
   "display_name": "Python 3",
   "language": "python",
   "name": "python3"
  },
  "language_info": {
   "codemirror_mode": {
    "name": "ipython",
    "version": 3
   },
   "file_extension": ".py",
   "mimetype": "text/x-python",
   "name": "python",
   "nbconvert_exporter": "python",
   "pygments_lexer": "ipython3",
   "version": "3.5.1"
  },
  "latex_envs": {
   "bibliofile": "biblio.bib",
   "cite_by": "apalike",
   "current_citInitial": 1,
   "eqLabelWithNumbers": true,
   "eqNumInitial": 0
  },
  "toc": {
   "toc_cell": false,
   "toc_number_sections": true,
   "toc_threshold": 6,
   "toc_window_display": false
  }
 },
 "nbformat": 4,
 "nbformat_minor": 0
}
